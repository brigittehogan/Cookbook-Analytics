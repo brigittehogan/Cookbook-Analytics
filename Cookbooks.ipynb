{
 "cells": [
  {
   "cell_type": "markdown",
   "metadata": {},
   "source": [
    "# Project Gutenberg Cooking Docs"
   ]
  },
  {
   "cell_type": "code",
   "execution_count": 1,
   "metadata": {},
   "outputs": [],
   "source": [
    "import pandas as pd\n",
    "import seaborn as sns\n",
    "from glob import glob # quickly read directory systems (does not sort files same way on all OS!)\n",
    "import re             # regular expressions\n",
    "import nltk"
   ]
  },
  {
   "cell_type": "code",
   "execution_count": 2,
   "metadata": {},
   "outputs": [],
   "source": [
    "%matplotlib inline\n",
    "sns.set()"
   ]
  },
  {
   "cell_type": "code",
   "execution_count": 3,
   "metadata": {},
   "outputs": [
    {
     "name": "stderr",
     "output_type": "stream",
     "text": [
      "[nltk_data] Downloading package punkt to /Users/Kobresia/nltk_data...\n",
      "[nltk_data]   Package punkt is already up-to-date!\n",
      "[nltk_data] Downloading package averaged_perceptron_tagger to\n",
      "[nltk_data]     /Users/Kobresia/nltk_data...\n",
      "[nltk_data]   Package averaged_perceptron_tagger is already up-to-\n",
      "[nltk_data]       date!\n",
      "[nltk_data] Downloading package stopwords to\n",
      "[nltk_data]     /Users/Kobresia/nltk_data...\n",
      "[nltk_data]   Package stopwords is already up-to-date!\n",
      "[nltk_data] Downloading package tagsets to\n",
      "[nltk_data]     /Users/Kobresia/nltk_data...\n",
      "[nltk_data]   Package tagsets is already up-to-date!\n"
     ]
    },
    {
     "data": {
      "text/plain": [
       "True"
      ]
     },
     "execution_count": 3,
     "metadata": {},
     "output_type": "execute_result"
    }
   ],
   "source": [
    "nltk.download('punkt')\n",
    "nltk.download('averaged_perceptron_tagger')\n",
    "nltk.download('stopwords')\n",
    "nltk.download('tagsets')"
   ]
  },
  {
   "cell_type": "markdown",
   "metadata": {},
   "source": [
    "# Define Functions"
   ]
  },
  {
   "cell_type": "markdown",
   "metadata": {},
   "source": [
    "#### aquire_epubs()"
   ]
  },
  {
   "cell_type": "code",
   "execution_count": 7,
   "metadata": {
    "jupyter": {
     "source_hidden": true
    }
   },
   "outputs": [],
   "source": [
    "def acquire_epubs(epub_list, OHCO=OHCO):\n",
    "    \n",
    "    my_lib = []\n",
    "    my_doc = []\n",
    "\n",
    "    for epub_file in epub_list[:-1]:\n",
    "        # Get info for LIB table\n",
    "        book_id = int(epub_file.split('_pg')[-1].split('.')[0].replace('b','1'))\n",
    "        author_yr = epub_file.split('/')[-1].split('_')[0].replace('[0-9]','')\n",
    "        author_last = author_yr[:-4]\n",
    "        book_year = int(author_yr[-4:])\n",
    "        print(\"BOOK ID\", book_id)\n",
    "        #print(author_last)\n",
    "\n",
    "        # Import file as lines\n",
    "        lines = open(epub_file, 'r', encoding='utf-8-sig').readlines()\n",
    "        df = pd.DataFrame(lines, columns=['line_str'])\n",
    "        df.index.name = 'line_num'\n",
    "        df.line_str = df.line_str.str.strip()\n",
    "        df['book_id'] = str(book_id)\n",
    "\n",
    "        # Remove cruft\n",
    "        start = df[df.line_str.str.match(re.compile('\\*\\*\\*\\s*START'), 1)].index[0]   \n",
    "        stop  = df[df.line_str.str.match(re.compile('(\\*\\*\\*)*End of (the )*Project Gutenberg', re.IGNORECASE), 1)].index[0]\n",
    "        #print('BOOK_ID', book_id, start, stop)\n",
    "        df = df.iloc[(start+1):stop]\n",
    "\n",
    "        # Chunk by chapter (no chapters)\n",
    "        #chap = re.compile('CHAPTER')\n",
    "        #chap_lines = df.line_str.str.match(chap)\n",
    "        #chap_nums = [i+1 for i in range(df.loc[chap_lines].shape[0])]\n",
    "        #df.loc[chap_lines, 'chap_num'] = chap_nums\n",
    "        #df.chap_num = df.chap_num.ffill()\n",
    "\n",
    "        # Chunk by section\n",
    "        sect = re.compile('(PREFACE|INTRODUCTION|Introductory|MENU |CONTENTS|INDEX)[(I|V|\\.)]{0,3}$')\n",
    "        sect_lines = df.line_str.str.match(sect)\n",
    "        sect_nums = [i+1 for i in range(df.loc[sect_lines].shape[0])]\n",
    "        print('sect_nums: ', sect_nums, '')\n",
    "        #print(df.loc[sect_lines].head(), '\\n')\n",
    "        df.loc[sect_lines, 'sect_num'] = sect_nums\n",
    "        df.sect_num = df.sect_num.ffill()\n",
    "\n",
    "        # Clean up\n",
    "        df = df[~df.sect_num.isna()] # Remove chapter heading lines\n",
    "        df = df.loc[~sect_lines]     # Remove everything before Section 1\n",
    "        df['sect_num'] = df['sect_num'].astype('int')\n",
    "\n",
    "        # Group -- Note that we exclude the book level in the OHCO at this point\n",
    "        df = df.groupby(OHCO[1:2]).line_str.apply(lambda x: '\\n'.join(x)).to_frame() # Make big string\n",
    "\n",
    "        # Split into paragrpahs\n",
    "        df = df['line_str'].str.split(r'\\n\\n+', expand=True).stack().to_frame().rename(columns={0:'para_str'})\n",
    "        df.index.names = OHCO[1:3] # MAY NOT BE NECESSARY UNTIL THE END\n",
    "        df['para_str'] = df['para_str'].str.replace(r'\\n', ' ').str.strip()\n",
    "        df = df[~df['para_str'].str.match(r'^\\s*$')] # Remove empty paragraphs\n",
    "\n",
    "        # Set index\n",
    "        df['book_id'] = book_id\n",
    "        df = df.reset_index().set_index(OHCO[:3])\n",
    "\n",
    "        # Register\n",
    "        my_lib.append((book_id, author_last, book_year, epub_file))\n",
    "        my_doc.append(df)    \n",
    "    \n",
    "    docs = pd.concat(my_doc)\n",
    "    library = pd.DataFrame(my_lib, columns=['book_id', 'author_last', 'book_year', 'book_file']).set_index('book_id')\n",
    "    print(\"Done.\")\n",
    "    return library, docs   "
   ]
  },
  {
   "cell_type": "markdown",
   "metadata": {},
   "source": [
    "#### tokenize()"
   ]
  },
  {
   "cell_type": "code",
   "execution_count": 12,
   "metadata": {
    "jupyter": {
     "source_hidden": true
    }
   },
   "outputs": [],
   "source": [
    "def tokenize(doc_df, OHCO=OHCO, remove_pos_tuple=False, ws=False):\n",
    "    \n",
    "    # Paragraphs to Sentences\n",
    "    df = doc_df.para_str\\\n",
    "        .apply(lambda x: pd.Series(nltk.sent_tokenize(x)))\\\n",
    "        .stack()\\\n",
    "        .to_frame()\\\n",
    "        .rename(columns={0:'sent_str'})\n",
    "    \n",
    "    # Sentences to Tokens\n",
    "    # Local function to pick tokenizer\n",
    "    def word_tokenize(x):\n",
    "        if ws:\n",
    "            s = pd.Series(nltk.pos_tag(nltk.WhitespaceTokenizer().tokenize(x)))\n",
    "        else:\n",
    "            s = pd.Series(nltk.pos_tag(nltk.word_tokenize(x))) # Discards stuff in between\n",
    "        return s\n",
    "            \n",
    "    df = df.sent_str\\\n",
    "        .apply(word_tokenize)\\\n",
    "        .stack()\\\n",
    "        .to_frame()\\\n",
    "        .rename(columns={0:'pos_tuple'})\n",
    "    \n",
    "    # Grab info from tuple\n",
    "    df['pos'] = df.pos_tuple.apply(lambda x: x[1])\n",
    "    df['token_str'] = df.pos_tuple.apply(lambda x: x[0])\n",
    "    if remove_pos_tuple:\n",
    "        df = df.drop('pos_tuple', 1)\n",
    "    \n",
    "    # Add index\n",
    "    df.index.names = OHCO\n",
    "    \n",
    "    return df"
   ]
  },
  {
   "cell_type": "markdown",
   "metadata": {},
   "source": [
    "# Import File"
   ]
  },
  {
   "cell_type": "code",
   "execution_count": 4,
   "metadata": {},
   "outputs": [],
   "source": [
    "file_dir = 'Various/'\n",
    "new_dir = 'Various/tables/'\n",
    "#OHCO = ['book_id', 'chap_num', 'para_num', 'sent_num', 'token_num']\n",
    "OHCO = ['book_id', 'sect_num', 'para_num', 'sent_num', 'token_num']"
   ]
  },
  {
   "cell_type": "markdown",
   "metadata": {},
   "source": [
    "## Find beginning"
   ]
  },
  {
   "cell_type": "code",
   "execution_count": 5,
   "metadata": {},
   "outputs": [
    {
     "data": {
      "text/plain": [
       "['Various/Boland1893_Invalid_pg54568.txt',\n",
       " 'Various/Bradley1923_FLSG_pg10582.txt',\n",
       " 'Various/Bury1844_TLOCB_pg29232.txt',\n",
       " 'Various/Eaton1822_TCHCUD_pg29084.txt',\n",
       " 'Various/Francatelli1852_PCBWC_pg22114.txt',\n",
       " 'Various/Goudiss1918_War_pg15464.txt',\n",
       " 'Various/Hill1909_SSCDD_pg19077.txt',\n",
       " 'Various/Hiller1913_FSD_pg31534.txt',\n",
       " 'Various/Kitchiner1830_TCO_pg28681.txt',\n",
       " 'Various/Kleber1915_Suffrage_pg26323.txt',\n",
       " 'Various/Leslie1840_DFC_pg9624.txt',\n",
       " 'Various/Lusk1918_War_pg32472.txt',\n",
       " 'Various/Murrey1884_Soups_pg25007.txt',\n",
       " 'Various/Murrey1885_Bfast_pg24205.txt',\n",
       " 'Various/Murrey1885_Salads_pg24542.txt',\n",
       " 'Various/Murrey1888_Fish_pg53521.txt',\n",
       " 'Various/Murrey1891_Curry_pg38464.txt',\n",
       " 'Various/Nelsons1892_HC_pg29519.txt',\n",
       " 'Various/Payne1877_CSPC_pg61185.txt',\n",
       " 'Various/Randolf1860_VAHousewife_pg12519.txt',\n",
       " 'Various/Reed1916_TMRCB_pg37680.txt',\n",
       " 'Various/Ronald1901_Century_pg34822.txt',\n",
       " 'Various/Santiagoe1887_Curry_pg34107.txt',\n",
       " 'Various/Various1902_LuncheonDishes_pg24384.txt',\n",
       " 'Various/Various1913_AMCM_pg26005.txt',\n",
       " 'Various/WIDAS1923_WILCV01_pg9935.txt',\n",
       " 'Various/WIDAS1923_WILCV02_pg9936.txt',\n",
       " 'Various/WIDAS1923_WILCV03_pg9937.txt',\n",
       " 'Various/WIDAS1923_WILCV04_pg9938.txt',\n",
       " 'Various/WIDAS1923_WILCV05_pg9939.txt',\n",
       " 'Various/deSalis1888_Game_pg31982.txt']"
      ]
     },
     "execution_count": 5,
     "metadata": {},
     "output_type": "execute_result"
    }
   ],
   "source": [
    "epub_list = [epub for epub in sorted(glob(file_dir+'/*.txt'))]\n",
    "epub_list"
   ]
  },
  {
   "cell_type": "code",
   "execution_count": 6,
   "metadata": {},
   "outputs": [
    {
     "data": {
      "text/plain": [
       "31"
      ]
     },
     "execution_count": 6,
     "metadata": {},
     "output_type": "execute_result"
    }
   ],
   "source": [
    "len(epub_list)"
   ]
  },
  {
   "cell_type": "markdown",
   "metadata": {},
   "source": [
    "## Pre-Cleaning"
   ]
  },
  {
   "cell_type": "markdown",
   "metadata": {},
   "source": [
    "Not run:"
   ]
  },
  {
   "cell_type": "markdown",
   "metadata": {
    "jupyter": {
     "source_hidden": true
    }
   },
   "source": [
    "```\n",
    "roman = '[IVXLCM.]+'  # roman numerals\n",
    "caps = \"[A-Z';, -]+\" # capital letters\n",
    "long = \"[OneTwoThreeFourFiveSix]\"\n",
    "card = \"[FIRSTSECONDTHIRDFOURTHFIFTHSIXTHSEVENTH]\"\n",
    "\n",
    "# done by visual inspection of each novel\n",
    "chap_pats = {\n",
    "    26005: {  # Armour's Monthly CookBook\n",
    "        'start_text': 1,\n",
    "        'start_line': 205,\n",
    "        'end_line': 33304, # (Table of) Contents\n",
    "        'volume': re.compile('^\\s*BOOK\\s+{}\\s*$'.format(roman)),    # BOOK I. TITLE, BOOK II. TITLE, ...\n",
    "        'chapter': re.compile('^\\s*CHAPTER\\s+{}\\s*$'.format(roman)) # CHAPTER I., CHAPTER II., ...\n",
    "    },\n",
    "    54568: {  # A HANDBOOK OF INVALID COOKING\n",
    "        'start_text': 0,\n",
    "        'start_line': 163,\n",
    "        'end_line': 10884,\n",
    "        'volume': re.compile('^\\s*Book\\s+{}\\s*$'.format(long)),     # Book One, Book Two, ...\n",
    "        'chapter': re.compile('^\\s*Chapter\\s+{}\\s*$'.format(roman)) # Chapter I/n/nTitle, Chapter II/n/nTitle, ...\n",
    "    },\n",
    "    10582: { # For Luncheon and Supper Guests\n",
    "        'start_text': 0,\n",
    "        'start_line': 71, \n",
    "        'end_line': 2808, # (Table of) Contents\n",
    "        'volume': re.compile('^\\s*BOOK\\s+{}\\s*$'.format(card)),     # BOOK FIRST., BOOK SECOND., ...\n",
    "        'chapter': re.compile('^\\s*Chapter\\s+{}\\s*$'.format(roman)) # Chapter I., Chapter II., ...\n",
    "    }\n",
    "}\n",
    "```"
   ]
  },
  {
   "cell_type": "code",
   "execution_count": 8,
   "metadata": {
    "collapsed": true,
    "jupyter": {
     "outputs_hidden": true
    }
   },
   "outputs": [
    {
     "name": "stdout",
     "output_type": "stream",
     "text": [
      "BOOK ID 54568\n",
      "sect_nums:  [1, 2, 3, 4] \n",
      "BOOK ID 10582\n",
      "sect_nums:  [1, 2, 3, 4, 5, 6, 7, 8] \n",
      "BOOK ID 29232\n",
      "sect_nums:  [1, 2] \n",
      "BOOK ID 29084\n",
      "sect_nums:  [1] \n",
      "BOOK ID 22114\n",
      "sect_nums:  [1, 2] \n",
      "BOOK ID 15464\n",
      "sect_nums:  [1] \n",
      "BOOK ID 19077\n",
      "sect_nums:  [1, 2, 3] \n",
      "BOOK ID 31534\n",
      "sect_nums:  [1, 2] \n",
      "BOOK ID 28681\n",
      "sect_nums:  [1, 2, 3, 4, 5] \n",
      "BOOK ID 26323\n",
      "sect_nums:  [1] \n",
      "BOOK ID 9624\n",
      "sect_nums:  [1, 2] \n",
      "BOOK ID 32472\n",
      "sect_nums:  [1, 2] \n",
      "BOOK ID 25007\n",
      "sect_nums:  [1] \n",
      "BOOK ID 24205\n",
      "sect_nums:  [1] \n",
      "BOOK ID 24542\n",
      "sect_nums:  [1] \n",
      "BOOK ID 53521\n",
      "sect_nums:  [1] \n",
      "BOOK ID 38464\n",
      "sect_nums:  [1] \n",
      "BOOK ID 29519\n",
      "sect_nums:  [1, 2, 3] \n",
      "BOOK ID 61185\n",
      "sect_nums:  [1, 2, 3] \n",
      "BOOK ID 12519\n",
      "sect_nums:  [1, 2, 3] \n",
      "BOOK ID 37680\n",
      "sect_nums:  [1, 2] \n",
      "BOOK ID 34822\n",
      "sect_nums:  [1, 2] \n",
      "BOOK ID 34107\n",
      "sect_nums:  [1] \n",
      "BOOK ID 24384\n",
      "sect_nums:  [1] \n",
      "BOOK ID 26005\n",
      "sect_nums:  [1] \n",
      "BOOK ID 9935\n",
      "sect_nums:  [1, 2, 3, 4] \n",
      "BOOK ID 9936\n",
      "sect_nums:  [1, 2, 3] \n",
      "BOOK ID 9937\n",
      "sect_nums:  [1, 2, 3] \n",
      "BOOK ID 9938\n",
      "sect_nums:  [1, 2, 3] \n",
      "BOOK ID 9939\n",
      "sect_nums:  [1, 2, 3] \n",
      "Done.\n"
     ]
    }
   ],
   "source": [
    "LIB, DOC = acquire_epubs(epub_list)"
   ]
  },
  {
   "cell_type": "code",
   "execution_count": 9,
   "metadata": {},
   "outputs": [
    {
     "data": {
      "text/html": [
       "<div>\n",
       "<style scoped>\n",
       "    .dataframe tbody tr th:only-of-type {\n",
       "        vertical-align: middle;\n",
       "    }\n",
       "\n",
       "    .dataframe tbody tr th {\n",
       "        vertical-align: top;\n",
       "    }\n",
       "\n",
       "    .dataframe thead th {\n",
       "        text-align: right;\n",
       "    }\n",
       "</style>\n",
       "<table border=\"1\" class=\"dataframe\">\n",
       "  <thead>\n",
       "    <tr style=\"text-align: right;\">\n",
       "      <th></th>\n",
       "      <th>author_last</th>\n",
       "      <th>book_year</th>\n",
       "      <th>book_file</th>\n",
       "    </tr>\n",
       "    <tr>\n",
       "      <th>book_id</th>\n",
       "      <th></th>\n",
       "      <th></th>\n",
       "      <th></th>\n",
       "    </tr>\n",
       "  </thead>\n",
       "  <tbody>\n",
       "    <tr>\n",
       "      <th>54568</th>\n",
       "      <td>Boland</td>\n",
       "      <td>1893</td>\n",
       "      <td>Various/Boland1893_Invalid_pg54568.txt</td>\n",
       "    </tr>\n",
       "    <tr>\n",
       "      <th>10582</th>\n",
       "      <td>Bradley</td>\n",
       "      <td>1923</td>\n",
       "      <td>Various/Bradley1923_FLSG_pg10582.txt</td>\n",
       "    </tr>\n",
       "    <tr>\n",
       "      <th>29232</th>\n",
       "      <td>Bury</td>\n",
       "      <td>1844</td>\n",
       "      <td>Various/Bury1844_TLOCB_pg29232.txt</td>\n",
       "    </tr>\n",
       "    <tr>\n",
       "      <th>29084</th>\n",
       "      <td>Eaton</td>\n",
       "      <td>1822</td>\n",
       "      <td>Various/Eaton1822_TCHCUD_pg29084.txt</td>\n",
       "    </tr>\n",
       "    <tr>\n",
       "      <th>22114</th>\n",
       "      <td>Francatelli</td>\n",
       "      <td>1852</td>\n",
       "      <td>Various/Francatelli1852_PCBWC_pg22114.txt</td>\n",
       "    </tr>\n",
       "    <tr>\n",
       "      <th>15464</th>\n",
       "      <td>Goudiss</td>\n",
       "      <td>1918</td>\n",
       "      <td>Various/Goudiss1918_War_pg15464.txt</td>\n",
       "    </tr>\n",
       "    <tr>\n",
       "      <th>19077</th>\n",
       "      <td>Hill</td>\n",
       "      <td>1909</td>\n",
       "      <td>Various/Hill1909_SSCDD_pg19077.txt</td>\n",
       "    </tr>\n",
       "    <tr>\n",
       "      <th>31534</th>\n",
       "      <td>Hiller</td>\n",
       "      <td>1913</td>\n",
       "      <td>Various/Hiller1913_FSD_pg31534.txt</td>\n",
       "    </tr>\n",
       "    <tr>\n",
       "      <th>28681</th>\n",
       "      <td>Kitchiner</td>\n",
       "      <td>1830</td>\n",
       "      <td>Various/Kitchiner1830_TCO_pg28681.txt</td>\n",
       "    </tr>\n",
       "    <tr>\n",
       "      <th>26323</th>\n",
       "      <td>Kleber</td>\n",
       "      <td>1915</td>\n",
       "      <td>Various/Kleber1915_Suffrage_pg26323.txt</td>\n",
       "    </tr>\n",
       "    <tr>\n",
       "      <th>9624</th>\n",
       "      <td>Leslie</td>\n",
       "      <td>1840</td>\n",
       "      <td>Various/Leslie1840_DFC_pg9624.txt</td>\n",
       "    </tr>\n",
       "    <tr>\n",
       "      <th>32472</th>\n",
       "      <td>Lusk</td>\n",
       "      <td>1918</td>\n",
       "      <td>Various/Lusk1918_War_pg32472.txt</td>\n",
       "    </tr>\n",
       "    <tr>\n",
       "      <th>25007</th>\n",
       "      <td>Murrey</td>\n",
       "      <td>1884</td>\n",
       "      <td>Various/Murrey1884_Soups_pg25007.txt</td>\n",
       "    </tr>\n",
       "    <tr>\n",
       "      <th>24205</th>\n",
       "      <td>Murrey</td>\n",
       "      <td>1885</td>\n",
       "      <td>Various/Murrey1885_Bfast_pg24205.txt</td>\n",
       "    </tr>\n",
       "    <tr>\n",
       "      <th>24542</th>\n",
       "      <td>Murrey</td>\n",
       "      <td>1885</td>\n",
       "      <td>Various/Murrey1885_Salads_pg24542.txt</td>\n",
       "    </tr>\n",
       "    <tr>\n",
       "      <th>53521</th>\n",
       "      <td>Murrey</td>\n",
       "      <td>1888</td>\n",
       "      <td>Various/Murrey1888_Fish_pg53521.txt</td>\n",
       "    </tr>\n",
       "    <tr>\n",
       "      <th>38464</th>\n",
       "      <td>Murrey</td>\n",
       "      <td>1891</td>\n",
       "      <td>Various/Murrey1891_Curry_pg38464.txt</td>\n",
       "    </tr>\n",
       "    <tr>\n",
       "      <th>29519</th>\n",
       "      <td>Nelsons</td>\n",
       "      <td>1892</td>\n",
       "      <td>Various/Nelsons1892_HC_pg29519.txt</td>\n",
       "    </tr>\n",
       "    <tr>\n",
       "      <th>61185</th>\n",
       "      <td>Payne</td>\n",
       "      <td>1877</td>\n",
       "      <td>Various/Payne1877_CSPC_pg61185.txt</td>\n",
       "    </tr>\n",
       "    <tr>\n",
       "      <th>12519</th>\n",
       "      <td>Randolf</td>\n",
       "      <td>1860</td>\n",
       "      <td>Various/Randolf1860_VAHousewife_pg12519.txt</td>\n",
       "    </tr>\n",
       "    <tr>\n",
       "      <th>37680</th>\n",
       "      <td>Reed</td>\n",
       "      <td>1916</td>\n",
       "      <td>Various/Reed1916_TMRCB_pg37680.txt</td>\n",
       "    </tr>\n",
       "    <tr>\n",
       "      <th>34822</th>\n",
       "      <td>Ronald</td>\n",
       "      <td>1901</td>\n",
       "      <td>Various/Ronald1901_Century_pg34822.txt</td>\n",
       "    </tr>\n",
       "    <tr>\n",
       "      <th>34107</th>\n",
       "      <td>Santiagoe</td>\n",
       "      <td>1887</td>\n",
       "      <td>Various/Santiagoe1887_Curry_pg34107.txt</td>\n",
       "    </tr>\n",
       "    <tr>\n",
       "      <th>24384</th>\n",
       "      <td>Various</td>\n",
       "      <td>1902</td>\n",
       "      <td>Various/Various1902_LuncheonDishes_pg24384.txt</td>\n",
       "    </tr>\n",
       "    <tr>\n",
       "      <th>26005</th>\n",
       "      <td>Various</td>\n",
       "      <td>1913</td>\n",
       "      <td>Various/Various1913_AMCM_pg26005.txt</td>\n",
       "    </tr>\n",
       "    <tr>\n",
       "      <th>9935</th>\n",
       "      <td>WIDAS</td>\n",
       "      <td>1923</td>\n",
       "      <td>Various/WIDAS1923_WILCV01_pg9935.txt</td>\n",
       "    </tr>\n",
       "    <tr>\n",
       "      <th>9936</th>\n",
       "      <td>WIDAS</td>\n",
       "      <td>1923</td>\n",
       "      <td>Various/WIDAS1923_WILCV02_pg9936.txt</td>\n",
       "    </tr>\n",
       "    <tr>\n",
       "      <th>9937</th>\n",
       "      <td>WIDAS</td>\n",
       "      <td>1923</td>\n",
       "      <td>Various/WIDAS1923_WILCV03_pg9937.txt</td>\n",
       "    </tr>\n",
       "    <tr>\n",
       "      <th>9938</th>\n",
       "      <td>WIDAS</td>\n",
       "      <td>1923</td>\n",
       "      <td>Various/WIDAS1923_WILCV04_pg9938.txt</td>\n",
       "    </tr>\n",
       "    <tr>\n",
       "      <th>9939</th>\n",
       "      <td>WIDAS</td>\n",
       "      <td>1923</td>\n",
       "      <td>Various/WIDAS1923_WILCV05_pg9939.txt</td>\n",
       "    </tr>\n",
       "  </tbody>\n",
       "</table>\n",
       "</div>"
      ],
      "text/plain": [
       "         author_last  book_year  \\\n",
       "book_id                           \n",
       "54568         Boland       1893   \n",
       "10582        Bradley       1923   \n",
       "29232           Bury       1844   \n",
       "29084          Eaton       1822   \n",
       "22114    Francatelli       1852   \n",
       "15464        Goudiss       1918   \n",
       "19077           Hill       1909   \n",
       "31534         Hiller       1913   \n",
       "28681      Kitchiner       1830   \n",
       "26323         Kleber       1915   \n",
       "9624          Leslie       1840   \n",
       "32472           Lusk       1918   \n",
       "25007         Murrey       1884   \n",
       "24205         Murrey       1885   \n",
       "24542         Murrey       1885   \n",
       "53521         Murrey       1888   \n",
       "38464         Murrey       1891   \n",
       "29519        Nelsons       1892   \n",
       "61185          Payne       1877   \n",
       "12519        Randolf       1860   \n",
       "37680           Reed       1916   \n",
       "34822         Ronald       1901   \n",
       "34107      Santiagoe       1887   \n",
       "24384        Various       1902   \n",
       "26005        Various       1913   \n",
       "9935           WIDAS       1923   \n",
       "9936           WIDAS       1923   \n",
       "9937           WIDAS       1923   \n",
       "9938           WIDAS       1923   \n",
       "9939           WIDAS       1923   \n",
       "\n",
       "                                              book_file  \n",
       "book_id                                                  \n",
       "54568            Various/Boland1893_Invalid_pg54568.txt  \n",
       "10582              Various/Bradley1923_FLSG_pg10582.txt  \n",
       "29232                Various/Bury1844_TLOCB_pg29232.txt  \n",
       "29084              Various/Eaton1822_TCHCUD_pg29084.txt  \n",
       "22114         Various/Francatelli1852_PCBWC_pg22114.txt  \n",
       "15464               Various/Goudiss1918_War_pg15464.txt  \n",
       "19077                Various/Hill1909_SSCDD_pg19077.txt  \n",
       "31534                Various/Hiller1913_FSD_pg31534.txt  \n",
       "28681             Various/Kitchiner1830_TCO_pg28681.txt  \n",
       "26323           Various/Kleber1915_Suffrage_pg26323.txt  \n",
       "9624                  Various/Leslie1840_DFC_pg9624.txt  \n",
       "32472                  Various/Lusk1918_War_pg32472.txt  \n",
       "25007              Various/Murrey1884_Soups_pg25007.txt  \n",
       "24205              Various/Murrey1885_Bfast_pg24205.txt  \n",
       "24542             Various/Murrey1885_Salads_pg24542.txt  \n",
       "53521               Various/Murrey1888_Fish_pg53521.txt  \n",
       "38464              Various/Murrey1891_Curry_pg38464.txt  \n",
       "29519                Various/Nelsons1892_HC_pg29519.txt  \n",
       "61185                Various/Payne1877_CSPC_pg61185.txt  \n",
       "12519       Various/Randolf1860_VAHousewife_pg12519.txt  \n",
       "37680                Various/Reed1916_TMRCB_pg37680.txt  \n",
       "34822            Various/Ronald1901_Century_pg34822.txt  \n",
       "34107           Various/Santiagoe1887_Curry_pg34107.txt  \n",
       "24384    Various/Various1902_LuncheonDishes_pg24384.txt  \n",
       "26005              Various/Various1913_AMCM_pg26005.txt  \n",
       "9935               Various/WIDAS1923_WILCV01_pg9935.txt  \n",
       "9936               Various/WIDAS1923_WILCV02_pg9936.txt  \n",
       "9937               Various/WIDAS1923_WILCV03_pg9937.txt  \n",
       "9938               Various/WIDAS1923_WILCV04_pg9938.txt  \n",
       "9939               Various/WIDAS1923_WILCV05_pg9939.txt  "
      ]
     },
     "execution_count": 9,
     "metadata": {},
     "output_type": "execute_result"
    }
   ],
   "source": [
    "LIB"
   ]
  },
  {
   "cell_type": "code",
   "execution_count": 10,
   "metadata": {},
   "outputs": [
    {
     "data": {
      "text/html": [
       "<div>\n",
       "<style scoped>\n",
       "    .dataframe tbody tr th:only-of-type {\n",
       "        vertical-align: middle;\n",
       "    }\n",
       "\n",
       "    .dataframe tbody tr th {\n",
       "        vertical-align: top;\n",
       "    }\n",
       "\n",
       "    .dataframe thead th {\n",
       "        text-align: right;\n",
       "    }\n",
       "</style>\n",
       "<table border=\"1\" class=\"dataframe\">\n",
       "  <thead>\n",
       "    <tr style=\"text-align: right;\">\n",
       "      <th></th>\n",
       "      <th></th>\n",
       "      <th></th>\n",
       "      <th>para_str</th>\n",
       "    </tr>\n",
       "    <tr>\n",
       "      <th>book_id</th>\n",
       "      <th>sect_num</th>\n",
       "      <th>para_num</th>\n",
       "      <th></th>\n",
       "    </tr>\n",
       "  </thead>\n",
       "  <tbody>\n",
       "    <tr>\n",
       "      <th rowspan=\"5\" valign=\"top\">54568</th>\n",
       "      <th rowspan=\"5\" valign=\"top\">2</th>\n",
       "      <th>0</th>\n",
       "      <td>PART I</td>\n",
       "    </tr>\n",
       "    <tr>\n",
       "      <th>1</th>\n",
       "      <td>EXPLANATORY LESSONS</td>\n",
       "    </tr>\n",
       "    <tr>\n",
       "      <th>2</th>\n",
       "      <td>PAGE</td>\n",
       "    </tr>\n",
       "    <tr>\n",
       "      <th>3</th>\n",
       "      <td>PREPARATION OF FOOD                           ...</td>\n",
       "    </tr>\n",
       "    <tr>\n",
       "      <th>4</th>\n",
       "      <td>CHEMICAL AND PHYSICAL CHANGES                 ...</td>\n",
       "    </tr>\n",
       "  </tbody>\n",
       "</table>\n",
       "</div>"
      ],
      "text/plain": [
       "                                                                    para_str\n",
       "book_id sect_num para_num                                                   \n",
       "54568   2        0                                                    PART I\n",
       "                 1                                       EXPLANATORY LESSONS\n",
       "                 2                                                      PAGE\n",
       "                 3         PREPARATION OF FOOD                           ...\n",
       "                 4         CHEMICAL AND PHYSICAL CHANGES                 ..."
      ]
     },
     "execution_count": 10,
     "metadata": {},
     "output_type": "execute_result"
    }
   ],
   "source": [
    "DOC.head()"
   ]
  },
  {
   "cell_type": "code",
   "execution_count": 11,
   "metadata": {},
   "outputs": [
    {
     "data": {
      "text/html": [
       "<div>\n",
       "<style scoped>\n",
       "    .dataframe tbody tr th:only-of-type {\n",
       "        vertical-align: middle;\n",
       "    }\n",
       "\n",
       "    .dataframe tbody tr th {\n",
       "        vertical-align: top;\n",
       "    }\n",
       "\n",
       "    .dataframe thead th {\n",
       "        text-align: right;\n",
       "    }\n",
       "</style>\n",
       "<table border=\"1\" class=\"dataframe\">\n",
       "  <thead>\n",
       "    <tr style=\"text-align: right;\">\n",
       "      <th></th>\n",
       "      <th></th>\n",
       "      <th></th>\n",
       "      <th>para_str</th>\n",
       "    </tr>\n",
       "    <tr>\n",
       "      <th>book_id</th>\n",
       "      <th>sect_num</th>\n",
       "      <th>para_num</th>\n",
       "      <th></th>\n",
       "    </tr>\n",
       "  </thead>\n",
       "  <tbody>\n",
       "    <tr>\n",
       "      <th>26323</th>\n",
       "      <th>1</th>\n",
       "      <th>135</th>\n",
       "      <td>Baked Ham (a la Miller)</td>\n",
       "    </tr>\n",
       "    <tr>\n",
       "      <th>34822</th>\n",
       "      <th>2</th>\n",
       "      <th>4141</th>\n",
       "      <td>Pare and core the citron; cut it into strips a...</td>\n",
       "    </tr>\n",
       "    <tr>\n",
       "      <th>25007</th>\n",
       "      <th>1</th>\n",
       "      <th>136</th>\n",
       "      <td>PURÉE OF CLAMS.--Chop twenty-five large hard-s...</td>\n",
       "    </tr>\n",
       "    <tr>\n",
       "      <th>26323</th>\n",
       "      <th>1</th>\n",
       "      <th>461</th>\n",
       "      <td>Man doth not live by bread alone. --Owen Meredith</td>\n",
       "    </tr>\n",
       "    <tr>\n",
       "      <th>29232</th>\n",
       "      <th>2</th>\n",
       "      <th>1958</th>\n",
       "      <td>_Apple Cheese._</td>\n",
       "    </tr>\n",
       "    <tr>\n",
       "      <th>28681</th>\n",
       "      <th>4</th>\n",
       "      <th>507</th>\n",
       "      <td>The following observations were written expres...</td>\n",
       "    </tr>\n",
       "    <tr>\n",
       "      <th>37680</th>\n",
       "      <th>1</th>\n",
       "      <th>3249</th>\n",
       "      <td>Soak half a package of gelatine in a cupful of...</td>\n",
       "    </tr>\n",
       "    <tr>\n",
       "      <th>54568</th>\n",
       "      <th>3</th>\n",
       "      <th>1470</th>\n",
       "      <td>Further, bacteria, by their multiplication, us...</td>\n",
       "    </tr>\n",
       "    <tr>\n",
       "      <th>29519</th>\n",
       "      <th>2</th>\n",
       "      <th>280</th>\n",
       "      <td>STRAWBERRY CREAM.</td>\n",
       "    </tr>\n",
       "    <tr>\n",
       "      <th>9935</th>\n",
       "      <th>4</th>\n",
       "      <th>29</th>\n",
       "      <td>Pan-broiled chops, broiling, Paprika, Parker H...</td>\n",
       "    </tr>\n",
       "  </tbody>\n",
       "</table>\n",
       "</div>"
      ],
      "text/plain": [
       "                                                                    para_str\n",
       "book_id sect_num para_num                                                   \n",
       "26323   1        135                                 Baked Ham (a la Miller)\n",
       "34822   2        4141      Pare and core the citron; cut it into strips a...\n",
       "25007   1        136       PURÉE OF CLAMS.--Chop twenty-five large hard-s...\n",
       "26323   1        461       Man doth not live by bread alone. --Owen Meredith\n",
       "29232   2        1958                                        _Apple Cheese._\n",
       "28681   4        507       The following observations were written expres...\n",
       "37680   1        3249      Soak half a package of gelatine in a cupful of...\n",
       "54568   3        1470      Further, bacteria, by their multiplication, us...\n",
       "29519   2        280                                       STRAWBERRY CREAM.\n",
       "9935    4        29        Pan-broiled chops, broiling, Paprika, Parker H..."
      ]
     },
     "execution_count": 11,
     "metadata": {},
     "output_type": "execute_result"
    }
   ],
   "source": [
    "DOC.sample(10)"
   ]
  },
  {
   "cell_type": "markdown",
   "metadata": {},
   "source": [
    "## Tokenize & Annotate"
   ]
  },
  {
   "cell_type": "code",
   "execution_count": 13,
   "metadata": {},
   "outputs": [
    {
     "name": "stdout",
     "output_type": "stream",
     "text": [
      "CPU times: user 3min 36s, sys: 6.87 s, total: 3min 42s\n",
      "Wall time: 3min 43s\n"
     ]
    }
   ],
   "source": [
    "%%time\n",
    "TOKEN = tokenize(DOC, ws=False)\n",
    "#CPU times: user 3min 42s, sys: 9.6 s, total: 3min 51s\n",
    "#Wall time: 3min 52s"
   ]
  },
  {
   "cell_type": "code",
   "execution_count": 16,
   "metadata": {},
   "outputs": [
    {
     "data": {
      "text/html": [
       "<div>\n",
       "<style scoped>\n",
       "    .dataframe tbody tr th:only-of-type {\n",
       "        vertical-align: middle;\n",
       "    }\n",
       "\n",
       "    .dataframe tbody tr th {\n",
       "        vertical-align: top;\n",
       "    }\n",
       "\n",
       "    .dataframe thead th {\n",
       "        text-align: right;\n",
       "    }\n",
       "</style>\n",
       "<table border=\"1\" class=\"dataframe\">\n",
       "  <thead>\n",
       "    <tr style=\"text-align: right;\">\n",
       "      <th></th>\n",
       "      <th></th>\n",
       "      <th></th>\n",
       "      <th></th>\n",
       "      <th></th>\n",
       "      <th>pos_tuple</th>\n",
       "      <th>pos</th>\n",
       "      <th>token_str</th>\n",
       "    </tr>\n",
       "    <tr>\n",
       "      <th>book_id</th>\n",
       "      <th>sect_num</th>\n",
       "      <th>para_num</th>\n",
       "      <th>sent_num</th>\n",
       "      <th>token_num</th>\n",
       "      <th></th>\n",
       "      <th></th>\n",
       "      <th></th>\n",
       "    </tr>\n",
       "  </thead>\n",
       "  <tbody>\n",
       "    <tr>\n",
       "      <th rowspan=\"5\" valign=\"top\">54568</th>\n",
       "      <th rowspan=\"5\" valign=\"top\">2</th>\n",
       "      <th rowspan=\"2\" valign=\"top\">0</th>\n",
       "      <th rowspan=\"2\" valign=\"top\">0</th>\n",
       "      <th>0</th>\n",
       "      <td>(PART, NN)</td>\n",
       "      <td>NN</td>\n",
       "      <td>PART</td>\n",
       "    </tr>\n",
       "    <tr>\n",
       "      <th>1</th>\n",
       "      <td>(I, PRP)</td>\n",
       "      <td>PRP</td>\n",
       "      <td>I</td>\n",
       "    </tr>\n",
       "    <tr>\n",
       "      <th rowspan=\"2\" valign=\"top\">1</th>\n",
       "      <th rowspan=\"2\" valign=\"top\">0</th>\n",
       "      <th>0</th>\n",
       "      <td>(EXPLANATORY, NNP)</td>\n",
       "      <td>NNP</td>\n",
       "      <td>EXPLANATORY</td>\n",
       "    </tr>\n",
       "    <tr>\n",
       "      <th>1</th>\n",
       "      <td>(LESSONS, NNP)</td>\n",
       "      <td>NNP</td>\n",
       "      <td>LESSONS</td>\n",
       "    </tr>\n",
       "    <tr>\n",
       "      <th>2</th>\n",
       "      <th>0</th>\n",
       "      <th>0</th>\n",
       "      <td>(PAGE, NN)</td>\n",
       "      <td>NN</td>\n",
       "      <td>PAGE</td>\n",
       "    </tr>\n",
       "  </tbody>\n",
       "</table>\n",
       "</div>"
      ],
      "text/plain": [
       "                                                       pos_tuple  pos  \\\n",
       "book_id sect_num para_num sent_num token_num                            \n",
       "54568   2        0        0        0                  (PART, NN)   NN   \n",
       "                                   1                    (I, PRP)  PRP   \n",
       "                 1        0        0          (EXPLANATORY, NNP)  NNP   \n",
       "                                   1              (LESSONS, NNP)  NNP   \n",
       "                 2        0        0                  (PAGE, NN)   NN   \n",
       "\n",
       "                                                token_str  \n",
       "book_id sect_num para_num sent_num token_num               \n",
       "54568   2        0        0        0                 PART  \n",
       "                                   1                    I  \n",
       "                 1        0        0          EXPLANATORY  \n",
       "                                   1              LESSONS  \n",
       "                 2        0        0                 PAGE  "
      ]
     },
     "execution_count": 16,
     "metadata": {},
     "output_type": "execute_result"
    }
   ],
   "source": [
    "TOKEN.head()"
   ]
  },
  {
   "cell_type": "code",
   "execution_count": 17,
   "metadata": {},
   "outputs": [
    {
     "data": {
      "text/html": [
       "<div>\n",
       "<style scoped>\n",
       "    .dataframe tbody tr th:only-of-type {\n",
       "        vertical-align: middle;\n",
       "    }\n",
       "\n",
       "    .dataframe tbody tr th {\n",
       "        vertical-align: top;\n",
       "    }\n",
       "\n",
       "    .dataframe thead th {\n",
       "        text-align: right;\n",
       "    }\n",
       "</style>\n",
       "<table border=\"1\" class=\"dataframe\">\n",
       "  <thead>\n",
       "    <tr style=\"text-align: right;\">\n",
       "      <th></th>\n",
       "      <th></th>\n",
       "      <th></th>\n",
       "      <th></th>\n",
       "      <th></th>\n",
       "      <th>pos_tuple</th>\n",
       "      <th>pos</th>\n",
       "      <th>token_str</th>\n",
       "    </tr>\n",
       "    <tr>\n",
       "      <th>book_id</th>\n",
       "      <th>sect_num</th>\n",
       "      <th>para_num</th>\n",
       "      <th>sent_num</th>\n",
       "      <th>token_num</th>\n",
       "      <th></th>\n",
       "      <th></th>\n",
       "      <th></th>\n",
       "    </tr>\n",
       "  </thead>\n",
       "  <tbody>\n",
       "    <tr>\n",
       "      <th rowspan=\"5\" valign=\"top\">54568</th>\n",
       "      <th rowspan=\"5\" valign=\"top\">2</th>\n",
       "      <th rowspan=\"2\" valign=\"top\">1</th>\n",
       "      <th rowspan=\"2\" valign=\"top\">0</th>\n",
       "      <th>0</th>\n",
       "      <td>(EXPLANATORY, NNP)</td>\n",
       "      <td>NNP</td>\n",
       "      <td>EXPLANATORY</td>\n",
       "    </tr>\n",
       "    <tr>\n",
       "      <th>1</th>\n",
       "      <td>(LESSONS, NNP)</td>\n",
       "      <td>NNP</td>\n",
       "      <td>LESSONS</td>\n",
       "    </tr>\n",
       "    <tr>\n",
       "      <th rowspan=\"2\" valign=\"top\">3</th>\n",
       "      <th rowspan=\"2\" valign=\"top\">0</th>\n",
       "      <th>1</th>\n",
       "      <td>(OF, NNP)</td>\n",
       "      <td>NNP</td>\n",
       "      <td>OF</td>\n",
       "    </tr>\n",
       "    <tr>\n",
       "      <th>2</th>\n",
       "      <td>(FOOD, NNP)</td>\n",
       "      <td>NNP</td>\n",
       "      <td>FOOD</td>\n",
       "    </tr>\n",
       "    <tr>\n",
       "      <th>4</th>\n",
       "      <th>0</th>\n",
       "      <th>2</th>\n",
       "      <td>(PHYSICAL, NNP)</td>\n",
       "      <td>NNP</td>\n",
       "      <td>PHYSICAL</td>\n",
       "    </tr>\n",
       "    <tr>\n",
       "      <th>...</th>\n",
       "      <th>...</th>\n",
       "      <th>...</th>\n",
       "      <th>...</th>\n",
       "      <th>...</th>\n",
       "      <td>...</td>\n",
       "      <td>...</td>\n",
       "      <td>...</td>\n",
       "    </tr>\n",
       "    <tr>\n",
       "      <th rowspan=\"5\" valign=\"top\">9939</th>\n",
       "      <th rowspan=\"5\" valign=\"top\">3</th>\n",
       "      <th rowspan=\"5\" valign=\"top\">45</th>\n",
       "      <th rowspan=\"5\" valign=\"top\">0</th>\n",
       "      <th>69</th>\n",
       "      <td>(Wine, NNP)</td>\n",
       "      <td>NNP</td>\n",
       "      <td>Wine</td>\n",
       "    </tr>\n",
       "    <tr>\n",
       "      <th>70</th>\n",
       "      <td>(Winter, NNP)</td>\n",
       "      <td>NNP</td>\n",
       "      <td>Winter</td>\n",
       "    </tr>\n",
       "    <tr>\n",
       "      <th>73</th>\n",
       "      <td>(Wire, NNP)</td>\n",
       "      <td>NNP</td>\n",
       "      <td>Wire</td>\n",
       "    </tr>\n",
       "    <tr>\n",
       "      <th>76</th>\n",
       "      <td>(Colander, NNP)</td>\n",
       "      <td>NNP</td>\n",
       "      <td>Colander</td>\n",
       "    </tr>\n",
       "    <tr>\n",
       "      <th>78</th>\n",
       "      <td>(Wrapping, NNP)</td>\n",
       "      <td>NNP</td>\n",
       "      <td>Wrapping</td>\n",
       "    </tr>\n",
       "  </tbody>\n",
       "</table>\n",
       "<p>108120 rows × 3 columns</p>\n",
       "</div>"
      ],
      "text/plain": [
       "                                                       pos_tuple  pos  \\\n",
       "book_id sect_num para_num sent_num token_num                            \n",
       "54568   2        1        0        0          (EXPLANATORY, NNP)  NNP   \n",
       "                                   1              (LESSONS, NNP)  NNP   \n",
       "                 3        0        1                   (OF, NNP)  NNP   \n",
       "                                   2                 (FOOD, NNP)  NNP   \n",
       "                 4        0        2             (PHYSICAL, NNP)  NNP   \n",
       "...                                                          ...  ...   \n",
       "9939    3        45       0        69                (Wine, NNP)  NNP   \n",
       "                                   70              (Winter, NNP)  NNP   \n",
       "                                   73                (Wire, NNP)  NNP   \n",
       "                                   76            (Colander, NNP)  NNP   \n",
       "                                   78            (Wrapping, NNP)  NNP   \n",
       "\n",
       "                                                token_str  \n",
       "book_id sect_num para_num sent_num token_num               \n",
       "54568   2        1        0        0          EXPLANATORY  \n",
       "                                   1              LESSONS  \n",
       "                 3        0        1                   OF  \n",
       "                                   2                 FOOD  \n",
       "                 4        0        2             PHYSICAL  \n",
       "...                                                   ...  \n",
       "9939    3        45       0        69                Wine  \n",
       "                                   70              Winter  \n",
       "                                   73                Wire  \n",
       "                                   76            Colander  \n",
       "                                   78            Wrapping  \n",
       "\n",
       "[108120 rows x 3 columns]"
      ]
     },
     "execution_count": 17,
     "metadata": {},
     "output_type": "execute_result"
    }
   ],
   "source": [
    "TOKEN[TOKEN.pos.str.match('^NNP')] # noise here with caps"
   ]
  },
  {
   "cell_type": "markdown",
   "metadata": {},
   "source": [
    "# Reduce"
   ]
  },
  {
   "cell_type": "code",
   "execution_count": 18,
   "metadata": {},
   "outputs": [],
   "source": [
    "TOKEN['term_str'] = TOKEN['token_str'].str.lower().str.replace('[\\W_]', '')"
   ]
  },
  {
   "cell_type": "code",
   "execution_count": 20,
   "metadata": {},
   "outputs": [],
   "source": [
    "VOCAB = TOKEN.term_str.value_counts().to_frame()\\\n",
    "    .rename(columns={'index':'term_str', 'term_str':'n'})\\\n",
    "    .sort_index().reset_index().rename(columns={'index':'term_str'})\n",
    "VOCAB.index.name = 'term_id'"
   ]
  },
  {
   "cell_type": "code",
   "execution_count": 21,
   "metadata": {},
   "outputs": [],
   "source": [
    "VOCAB['num'] = VOCAB.term_str.str.match(\"\\d+\").astype('int')"
   ]
  },
  {
   "cell_type": "code",
   "execution_count": 27,
   "metadata": {},
   "outputs": [
    {
     "name": "stdout",
     "output_type": "stream",
     "text": [
      "Number of TOKENs =  2432918\n",
      "Number of VOCABs =    26055\n"
     ]
    }
   ],
   "source": [
    "print('Number of TOKENs = ', TOKEN.shape[0])\n",
    "print('Number of VOCABs =   ', VOCAB.shape[0])"
   ]
  },
  {
   "cell_type": "markdown",
   "metadata": {},
   "source": [
    "# Annotate VOCAB"
   ]
  },
  {
   "cell_type": "markdown",
   "metadata": {},
   "source": [
    "### Add Markers for Integers"
   ]
  },
  {
   "cell_type": "code",
   "execution_count": 28,
   "metadata": {},
   "outputs": [],
   "source": [
    "VOCAB['has_int'] = 0"
   ]
  },
  {
   "cell_type": "code",
   "execution_count": 29,
   "metadata": {},
   "outputs": [
    {
     "name": "stderr",
     "output_type": "stream",
     "text": [
      "/Users/Kobresia/opt/anaconda3/lib/python3.7/site-packages/ipykernel_launcher.py:1: SettingWithCopyWarning: \n",
      "A value is trying to be set on a copy of a slice from a DataFrame\n",
      "\n",
      "See the caveats in the documentation: https://pandas.pydata.org/pandas-docs/stable/user_guide/indexing.html#returning-a-view-versus-a-copy\n",
      "  \"\"\"Entry point for launching an IPython kernel.\n"
     ]
    }
   ],
   "source": [
    "VOCAB.has_int[VOCAB['term_str'].str.contains('[0-9]')] = 1 # need to fix warning"
   ]
  },
  {
   "cell_type": "code",
   "execution_count": 41,
   "metadata": {},
   "outputs": [
    {
     "data": {
      "text/plain": [
       "(1338, 7)"
      ]
     },
     "execution_count": 41,
     "metadata": {},
     "output_type": "execute_result"
    }
   ],
   "source": [
    "VOCAB[(VOCAB.has_int == 1)].shape"
   ]
  },
  {
   "cell_type": "markdown",
   "metadata": {},
   "source": [
    "## Add Stopwords"
   ]
  },
  {
   "cell_type": "code",
   "execution_count": 30,
   "metadata": {},
   "outputs": [],
   "source": [
    "sw = pd.DataFrame(nltk.corpus.stopwords.words('english'), columns=['term_str'])\n",
    "sw = sw.reset_index().set_index('term_str')\n",
    "sw.columns = ['dummy']\n",
    "sw.dummy = 1"
   ]
  },
  {
   "cell_type": "code",
   "execution_count": 31,
   "metadata": {},
   "outputs": [
    {
     "data": {
      "text/plain": [
       "(179, 1)"
      ]
     },
     "execution_count": 31,
     "metadata": {},
     "output_type": "execute_result"
    }
   ],
   "source": [
    "sw.shape"
   ]
  },
  {
   "cell_type": "code",
   "execution_count": 32,
   "metadata": {},
   "outputs": [],
   "source": [
    "VOCAB['stop'] = VOCAB.term_str.map(sw.dummy)\n",
    "VOCAB['stop'] = VOCAB['stop'].fillna(0).astype('int')"
   ]
  },
  {
   "cell_type": "code",
   "execution_count": 33,
   "metadata": {
    "collapsed": true,
    "jupyter": {
     "outputs_hidden": true
    }
   },
   "outputs": [
    {
     "data": {
      "text/html": [
       "<div>\n",
       "<style scoped>\n",
       "    .dataframe tbody tr th:only-of-type {\n",
       "        vertical-align: middle;\n",
       "    }\n",
       "\n",
       "    .dataframe tbody tr th {\n",
       "        vertical-align: top;\n",
       "    }\n",
       "\n",
       "    .dataframe thead th {\n",
       "        text-align: right;\n",
       "    }\n",
       "</style>\n",
       "<table border=\"1\" class=\"dataframe\">\n",
       "  <thead>\n",
       "    <tr style=\"text-align: right;\">\n",
       "      <th></th>\n",
       "      <th>term_str</th>\n",
       "      <th>n</th>\n",
       "      <th>num</th>\n",
       "      <th>has_int</th>\n",
       "      <th>stop</th>\n",
       "    </tr>\n",
       "    <tr>\n",
       "      <th>term_id</th>\n",
       "      <th></th>\n",
       "      <th></th>\n",
       "      <th></th>\n",
       "      <th></th>\n",
       "      <th></th>\n",
       "    </tr>\n",
       "  </thead>\n",
       "  <tbody>\n",
       "    <tr>\n",
       "      <th>23336</th>\n",
       "      <td>these</td>\n",
       "      <td>2661</td>\n",
       "      <td>0</td>\n",
       "      <td>0</td>\n",
       "      <td>1</td>\n",
       "    </tr>\n",
       "    <tr>\n",
       "      <th>25993</th>\n",
       "      <td>your</td>\n",
       "      <td>2062</td>\n",
       "      <td>0</td>\n",
       "      <td>0</td>\n",
       "      <td>1</td>\n",
       "    </tr>\n",
       "    <tr>\n",
       "      <th>10031</th>\n",
       "      <td>for</td>\n",
       "      <td>18772</td>\n",
       "      <td>0</td>\n",
       "      <td>0</td>\n",
       "      <td>1</td>\n",
       "    </tr>\n",
       "    <tr>\n",
       "      <th>9511</th>\n",
       "      <td>few</td>\n",
       "      <td>2023</td>\n",
       "      <td>0</td>\n",
       "      <td>0</td>\n",
       "      <td>1</td>\n",
       "    </tr>\n",
       "    <tr>\n",
       "      <th>23487</th>\n",
       "      <td>through</td>\n",
       "      <td>2352</td>\n",
       "      <td>0</td>\n",
       "      <td>0</td>\n",
       "      <td>1</td>\n",
       "    </tr>\n",
       "    <tr>\n",
       "      <th>25707</th>\n",
       "      <td>with</td>\n",
       "      <td>29811</td>\n",
       "      <td>0</td>\n",
       "      <td>0</td>\n",
       "      <td>1</td>\n",
       "    </tr>\n",
       "    <tr>\n",
       "      <th>25482</th>\n",
       "      <td>where</td>\n",
       "      <td>792</td>\n",
       "      <td>0</td>\n",
       "      <td>0</td>\n",
       "      <td>1</td>\n",
       "    </tr>\n",
       "    <tr>\n",
       "      <th>2421</th>\n",
       "      <td>as</td>\n",
       "      <td>15995</td>\n",
       "      <td>0</td>\n",
       "      <td>0</td>\n",
       "      <td>1</td>\n",
       "    </tr>\n",
       "    <tr>\n",
       "      <th>14344</th>\n",
       "      <td>m</td>\n",
       "      <td>157</td>\n",
       "      <td>0</td>\n",
       "      <td>0</td>\n",
       "      <td>1</td>\n",
       "    </tr>\n",
       "    <tr>\n",
       "      <th>25929</th>\n",
       "      <td>y</td>\n",
       "      <td>7</td>\n",
       "      <td>0</td>\n",
       "      <td>0</td>\n",
       "      <td>1</td>\n",
       "    </tr>\n",
       "  </tbody>\n",
       "</table>\n",
       "</div>"
      ],
      "text/plain": [
       "        term_str      n  num  has_int  stop\n",
       "term_id                                    \n",
       "23336      these   2661    0        0     1\n",
       "25993       your   2062    0        0     1\n",
       "10031        for  18772    0        0     1\n",
       "9511         few   2023    0        0     1\n",
       "23487    through   2352    0        0     1\n",
       "25707       with  29811    0        0     1\n",
       "25482      where    792    0        0     1\n",
       "2421          as  15995    0        0     1\n",
       "14344          m    157    0        0     1\n",
       "25929          y      7    0        0     1"
      ]
     },
     "execution_count": 33,
     "metadata": {},
     "output_type": "execute_result"
    }
   ],
   "source": [
    "VOCAB[VOCAB.stop == 1].sample(10)"
   ]
  },
  {
   "cell_type": "markdown",
   "metadata": {},
   "source": [
    "## Add Stems"
   ]
  },
  {
   "cell_type": "code",
   "execution_count": 34,
   "metadata": {},
   "outputs": [],
   "source": [
    "from nltk.stem.porter import PorterStemmer\n",
    "stemmer1 = PorterStemmer()\n",
    "VOCAB['stem_porter'] = VOCAB.term_str.apply(stemmer1.stem)\n",
    "\n",
    "from nltk.stem.snowball import SnowballStemmer\n",
    "stemmer2 = SnowballStemmer(\"english\")\n",
    "VOCAB['stem_snowball'] = VOCAB.term_str.apply(stemmer2.stem)\n",
    "\n",
    "#from nltk.stem.lancaster import LancasterStemmer\n",
    "#stemmer3 = LancasterStemmer()\n",
    "#VOCAB['stem_lancaster'] = VOCAB.term_str.apply(stemmer3.stem)"
   ]
  },
  {
   "cell_type": "code",
   "execution_count": 37,
   "metadata": {},
   "outputs": [],
   "source": [
    "VOCAB = VOCAB.sort_values(by=['n'], ascending=False)"
   ]
  },
  {
   "cell_type": "code",
   "execution_count": 39,
   "metadata": {},
   "outputs": [
    {
     "data": {
      "text/html": [
       "<div>\n",
       "<style scoped>\n",
       "    .dataframe tbody tr th:only-of-type {\n",
       "        vertical-align: middle;\n",
       "    }\n",
       "\n",
       "    .dataframe tbody tr th {\n",
       "        vertical-align: top;\n",
       "    }\n",
       "\n",
       "    .dataframe thead th {\n",
       "        text-align: right;\n",
       "    }\n",
       "</style>\n",
       "<table border=\"1\" class=\"dataframe\">\n",
       "  <thead>\n",
       "    <tr style=\"text-align: right;\">\n",
       "      <th></th>\n",
       "      <th>term_str</th>\n",
       "      <th>n</th>\n",
       "      <th>num</th>\n",
       "      <th>has_int</th>\n",
       "      <th>stop</th>\n",
       "      <th>stem_porter</th>\n",
       "      <th>stem_snowball</th>\n",
       "    </tr>\n",
       "    <tr>\n",
       "      <th>term_id</th>\n",
       "      <th></th>\n",
       "      <th></th>\n",
       "      <th></th>\n",
       "      <th></th>\n",
       "      <th></th>\n",
       "      <th></th>\n",
       "      <th></th>\n",
       "    </tr>\n",
       "  </thead>\n",
       "  <tbody>\n",
       "    <tr>\n",
       "      <th>0</th>\n",
       "      <td></td>\n",
       "      <td>362105</td>\n",
       "      <td>0</td>\n",
       "      <td>0</td>\n",
       "      <td>0</td>\n",
       "      <td></td>\n",
       "      <td></td>\n",
       "    </tr>\n",
       "    <tr>\n",
       "      <th>23300</th>\n",
       "      <td>the</td>\n",
       "      <td>118693</td>\n",
       "      <td>0</td>\n",
       "      <td>0</td>\n",
       "      <td>1</td>\n",
       "      <td>the</td>\n",
       "      <td>the</td>\n",
       "    </tr>\n",
       "    <tr>\n",
       "      <th>2028</th>\n",
       "      <td>and</td>\n",
       "      <td>83529</td>\n",
       "      <td>0</td>\n",
       "      <td>0</td>\n",
       "      <td>1</td>\n",
       "      <td>and</td>\n",
       "      <td>and</td>\n",
       "    </tr>\n",
       "    <tr>\n",
       "      <th>16176</th>\n",
       "      <td>of</td>\n",
       "      <td>82275</td>\n",
       "      <td>0</td>\n",
       "      <td>0</td>\n",
       "      <td>1</td>\n",
       "      <td>of</td>\n",
       "      <td>of</td>\n",
       "    </tr>\n",
       "    <tr>\n",
       "      <th>1334</th>\n",
       "      <td>a</td>\n",
       "      <td>70577</td>\n",
       "      <td>0</td>\n",
       "      <td>0</td>\n",
       "      <td>1</td>\n",
       "      <td>a</td>\n",
       "      <td>a</td>\n",
       "    </tr>\n",
       "  </tbody>\n",
       "</table>\n",
       "</div>"
      ],
      "text/plain": [
       "        term_str       n  num  has_int  stop stem_porter stem_snowball\n",
       "term_id                                                               \n",
       "0                 362105    0        0     0                          \n",
       "23300        the  118693    0        0     1         the           the\n",
       "2028         and   83529    0        0     1         and           and\n",
       "16176         of   82275    0        0     1          of            of\n",
       "1334           a   70577    0        0     1           a             a"
      ]
     },
     "execution_count": 39,
     "metadata": {},
     "output_type": "execute_result"
    }
   ],
   "source": [
    "VOCAB.head(5)"
   ]
  },
  {
   "cell_type": "markdown",
   "metadata": {},
   "source": [
    "## View Results"
   ]
  },
  {
   "cell_type": "code",
   "execution_count": 36,
   "metadata": {
    "collapsed": true,
    "jupyter": {
     "outputs_hidden": true
    }
   },
   "outputs": [
    {
     "name": "stdout",
     "output_type": "stream",
     "text": [
      "Variable          Type               Data/Info\n",
      "----------------------------------------------\n",
      "DOC               DataFrame                                   <...>n[45777 rows x 1 columns]\n",
      "LIB               DataFrame                   author_last  boo<...>1923_WILCV05_pg9939.txt  \n",
      "OHCO              list               n=5\n",
      "PorterStemmer     ABCMeta            <class 'nltk.stem.porter.PorterStemmer'>\n",
      "SnowballStemmer   ABCMeta            <class 'nltk.stem.snowball.SnowballStemmer'>\n",
      "TOKEN             DataFrame                                   <...>2432918 rows x 4 columns]\n",
      "VOCAB             DataFrame                  term_str       n <...>n[26055 rows x 7 columns]\n",
      "acquire_epubs     function           <function acquire_epubs at 0x126a8da70>\n",
      "epub_list         list               n=31\n",
      "file_dir          str                Various/\n",
      "glob              function           <function glob at 0x100cef4d0>\n",
      "new_dir           str                Various/tables/\n",
      "nltk              module             <module 'nltk' from '/Use<...>ckages/nltk/__init__.py'>\n",
      "pd                module             <module 'pandas' from '/U<...>ages/pandas/__init__.py'>\n",
      "re                module             <module 're' from '/Users<...>da3/lib/python3.7/re.py'>\n",
      "sns               module             <module 'seaborn' from '/<...>ges/seaborn/__init__.py'>\n",
      "stemmer1          PorterStemmer      <PorterStemmer>\n",
      "stemmer2          SnowballStemmer    <nltk.stem.snowball.Snowb<...>er object at 0x141e84050>\n",
      "sw                DataFrame                    dummy\\nterm_str<...>n\\n[179 rows x 1 columns]\n",
      "tokenize          function           <function tokenize at 0x12731d440>\n"
     ]
    }
   ],
   "source": [
    "%whos"
   ]
  },
  {
   "cell_type": "markdown",
   "metadata": {},
   "source": [
    "### Reduced VOCAB\n",
    "(no integers or stopwords)"
   ]
  },
  {
   "cell_type": "code",
   "execution_count": 42,
   "metadata": {},
   "outputs": [],
   "source": [
    "VOCAB_real = VOCAB[(VOCAB.has_int == 0) & (VOCAB.stop == 0)]\n",
    "VOCAB_real = VOCAB_real[VOCAB_real.term_str != ''].drop(['num','stop','has_int'], axis=1)"
   ]
  },
  {
   "cell_type": "code",
   "execution_count": 63,
   "metadata": {},
   "outputs": [
    {
     "name": "stdout",
     "output_type": "stream",
     "text": [
      "Total Num VOCAB   =  26055\n",
      "Num Reduced VOCAB =  24577\n"
     ]
    }
   ],
   "source": [
    "print('Total Num VOCAB   = ', VOCAB.shape[0])\n",
    "print('Num Reduced VOCAB = ', VOCAB_real.shape[0])"
   ]
  },
  {
   "cell_type": "code",
   "execution_count": 43,
   "metadata": {},
   "outputs": [
    {
     "data": {
      "text/html": [
       "<div>\n",
       "<style scoped>\n",
       "    .dataframe tbody tr th:only-of-type {\n",
       "        vertical-align: middle;\n",
       "    }\n",
       "\n",
       "    .dataframe tbody tr th {\n",
       "        vertical-align: top;\n",
       "    }\n",
       "\n",
       "    .dataframe thead th {\n",
       "        text-align: right;\n",
       "    }\n",
       "</style>\n",
       "<table border=\"1\" class=\"dataframe\">\n",
       "  <thead>\n",
       "    <tr style=\"text-align: right;\">\n",
       "      <th></th>\n",
       "      <th>term_str</th>\n",
       "      <th>n</th>\n",
       "      <th>stem_porter</th>\n",
       "      <th>stem_snowball</th>\n",
       "    </tr>\n",
       "    <tr>\n",
       "      <th>term_id</th>\n",
       "      <th></th>\n",
       "      <th></th>\n",
       "      <th></th>\n",
       "      <th></th>\n",
       "    </tr>\n",
       "  </thead>\n",
       "  <tbody>\n",
       "    <tr>\n",
       "      <th>25213</th>\n",
       "      <td>water</td>\n",
       "      <td>11486</td>\n",
       "      <td>water</td>\n",
       "      <td>water</td>\n",
       "    </tr>\n",
       "    <tr>\n",
       "      <th>18728</th>\n",
       "      <td>put</td>\n",
       "      <td>9786</td>\n",
       "      <td>put</td>\n",
       "      <td>put</td>\n",
       "    </tr>\n",
       "    <tr>\n",
       "      <th>1563</th>\n",
       "      <td>add</td>\n",
       "      <td>8498</td>\n",
       "      <td>add</td>\n",
       "      <td>add</td>\n",
       "    </tr>\n",
       "    <tr>\n",
       "      <th>16295</th>\n",
       "      <td>one</td>\n",
       "      <td>8437</td>\n",
       "      <td>one</td>\n",
       "      <td>one</td>\n",
       "    </tr>\n",
       "    <tr>\n",
       "      <th>20205</th>\n",
       "      <td>salt</td>\n",
       "      <td>7687</td>\n",
       "      <td>salt</td>\n",
       "      <td>salt</td>\n",
       "    </tr>\n",
       "    <tr>\n",
       "      <th>4083</th>\n",
       "      <td>butter</td>\n",
       "      <td>7652</td>\n",
       "      <td>butter</td>\n",
       "      <td>butter</td>\n",
       "    </tr>\n",
       "    <tr>\n",
       "      <th>24141</th>\n",
       "      <td>two</td>\n",
       "      <td>7644</td>\n",
       "      <td>two</td>\n",
       "      <td>two</td>\n",
       "    </tr>\n",
       "    <tr>\n",
       "      <th>14732</th>\n",
       "      <td>may</td>\n",
       "      <td>7595</td>\n",
       "      <td>may</td>\n",
       "      <td>may</td>\n",
       "    </tr>\n",
       "    <tr>\n",
       "      <th>11316</th>\n",
       "      <td>half</td>\n",
       "      <td>6479</td>\n",
       "      <td>half</td>\n",
       "      <td>half</td>\n",
       "    </tr>\n",
       "    <tr>\n",
       "      <th>22612</th>\n",
       "      <td>sugar</td>\n",
       "      <td>6398</td>\n",
       "      <td>sugar</td>\n",
       "      <td>sugar</td>\n",
       "    </tr>\n",
       "    <tr>\n",
       "      <th>14095</th>\n",
       "      <td>little</td>\n",
       "      <td>6237</td>\n",
       "      <td>littl</td>\n",
       "      <td>littl</td>\n",
       "    </tr>\n",
       "    <tr>\n",
       "      <th>6724</th>\n",
       "      <td>cut</td>\n",
       "      <td>5925</td>\n",
       "      <td>cut</td>\n",
       "      <td>cut</td>\n",
       "    </tr>\n",
       "    <tr>\n",
       "      <th>15021</th>\n",
       "      <td>milk</td>\n",
       "      <td>5626</td>\n",
       "      <td>milk</td>\n",
       "      <td>milk</td>\n",
       "    </tr>\n",
       "    <tr>\n",
       "      <th>9898</th>\n",
       "      <td>flour</td>\n",
       "      <td>5286</td>\n",
       "      <td>flour</td>\n",
       "      <td>flour</td>\n",
       "    </tr>\n",
       "    <tr>\n",
       "      <th>25333</th>\n",
       "      <td>well</td>\n",
       "      <td>5116</td>\n",
       "      <td>well</td>\n",
       "      <td>well</td>\n",
       "    </tr>\n",
       "    <tr>\n",
       "      <th>3492</th>\n",
       "      <td>boil</td>\n",
       "      <td>4909</td>\n",
       "      <td>boil</td>\n",
       "      <td>boil</td>\n",
       "    </tr>\n",
       "    <tr>\n",
       "      <th>8343</th>\n",
       "      <td>eggs</td>\n",
       "      <td>4835</td>\n",
       "      <td>egg</td>\n",
       "      <td>egg</td>\n",
       "    </tr>\n",
       "    <tr>\n",
       "      <th>6384</th>\n",
       "      <td>cream</td>\n",
       "      <td>4692</td>\n",
       "      <td>cream</td>\n",
       "      <td>cream</td>\n",
       "    </tr>\n",
       "    <tr>\n",
       "      <th>5427</th>\n",
       "      <td>cold</td>\n",
       "      <td>4690</td>\n",
       "      <td>cold</td>\n",
       "      <td>cold</td>\n",
       "    </tr>\n",
       "    <tr>\n",
       "      <th>22993</th>\n",
       "      <td>take</td>\n",
       "      <td>4643</td>\n",
       "      <td>take</td>\n",
       "      <td>take</td>\n",
       "    </tr>\n",
       "  </tbody>\n",
       "</table>\n",
       "</div>"
      ],
      "text/plain": [
       "        term_str      n stem_porter stem_snowball\n",
       "term_id                                          \n",
       "25213      water  11486       water         water\n",
       "18728        put   9786         put           put\n",
       "1563         add   8498         add           add\n",
       "16295        one   8437         one           one\n",
       "20205       salt   7687        salt          salt\n",
       "4083      butter   7652      butter        butter\n",
       "24141        two   7644         two           two\n",
       "14732        may   7595         may           may\n",
       "11316       half   6479        half          half\n",
       "22612      sugar   6398       sugar         sugar\n",
       "14095     little   6237       littl         littl\n",
       "6724         cut   5925         cut           cut\n",
       "15021       milk   5626        milk          milk\n",
       "9898       flour   5286       flour         flour\n",
       "25333       well   5116        well          well\n",
       "3492        boil   4909        boil          boil\n",
       "8343        eggs   4835         egg           egg\n",
       "6384       cream   4692       cream         cream\n",
       "5427        cold   4690        cold          cold\n",
       "22993       take   4643        take          take"
      ]
     },
     "execution_count": 43,
     "metadata": {},
     "output_type": "execute_result"
    }
   ],
   "source": [
    "VOCAB_real.head(20)"
   ]
  },
  {
   "cell_type": "code",
   "execution_count": 44,
   "metadata": {},
   "outputs": [
    {
     "data": {
      "image/png": "[encoded data removed]",
      "text/plain": [
       "<Figure size 432x288 with 1 Axes>"
      ]
     },
     "metadata": {},
     "output_type": "display_data"
    }
   ],
   "source": [
    "VOCAB_real.n[VOCAB_real.n <= 50].hist();"
   ]
  },
  {
   "cell_type": "code",
   "execution_count": 45,
   "metadata": {},
   "outputs": [
    {
     "data": {
      "image/png": "[encoded data removed]",
      "text/plain": [
       "<Figure size 432x288 with 1 Axes>"
      ]
     },
     "metadata": {},
     "output_type": "display_data"
    }
   ],
   "source": [
    "VOCAB_real.n[(VOCAB_real.n > 50) & (VOCAB_real.n <= 1000)].hist();"
   ]
  },
  {
   "cell_type": "code",
   "execution_count": 46,
   "metadata": {},
   "outputs": [
    {
     "data": {
      "image/png": "[encoded data removed]",
      "text/plain": [
       "<Figure size 432x288 with 1 Axes>"
      ]
     },
     "metadata": {},
     "output_type": "display_data"
    }
   ],
   "source": [
    "VOCAB_real.n[VOCAB_real.n > 1000].hist();"
   ]
  },
  {
   "cell_type": "markdown",
   "metadata": {},
   "source": [
    "#### Top Words"
   ]
  },
  {
   "cell_type": "code",
   "execution_count": 62,
   "metadata": {},
   "outputs": [
    {
     "name": "stdout",
     "output_type": "stream",
     "text": [
      "Number of top 100 words = 1630\n",
      "Number of top 50 words =  2547\n"
     ]
    }
   ],
   "source": [
    "i = 100\n",
    "print('Number of top', i, 'words =', len(VOCAB_real.n[VOCAB_real.n >= i]))\n",
    "i = 50\n",
    "print('Number of top', i, 'words = ', len(VOCAB_real.n[VOCAB_real.n >= i]))"
   ]
  },
  {
   "cell_type": "markdown",
   "metadata": {},
   "source": [
    "# Save"
   ]
  },
  {
   "cell_type": "code",
   "execution_count": null,
   "metadata": {},
   "outputs": [],
   "source": [
    "#DOC.to_csv('DOC.csv')\n",
    "#LIB.to_csv('LIB.csv')\n",
    "#VOCAB.to_csv('VOCAB.csv')\n",
    "#TOKEN.to_csv('TOKEN.csv')"
   ]
  }
 ],
 "metadata": {
  "kernelspec": {
   "display_name": "Python 3",
   "language": "python",
   "name": "python3"
  },
  "language_info": {
   "codemirror_mode": {
    "name": "ipython",
    "version": 3
   },
   "file_extension": ".py",
   "mimetype": "text/x-python",
   "name": "python",
   "nbconvert_exporter": "python",
   "pygments_lexer": "ipython3",
   "version": "3.7.6"
  }
 },
 "nbformat": 4,
 "nbformat_minor": 4
}
